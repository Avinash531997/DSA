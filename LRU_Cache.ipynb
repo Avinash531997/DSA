{
 "cells": [
  {
   "cell_type": "code",
   "execution_count": 16,
   "metadata": {},
   "outputs": [],
   "source": [
    "class Node:\n",
    "    def __init__(self,key, value):\n",
    "        self.key = key\n",
    "        self.value = value\n",
    "        self.prev = None\n",
    "        self.next = None\n",
    "\n",
    "class LRUCache:\n",
    "\n",
    "    def __init__(self, capacity:int):\n",
    "           self.capacity = capacity\n",
    "           self.cache = {} \n",
    "           self.head = Node(0,0)\n",
    "           self.tail = Node(0,0)\n",
    "           self.head.next = self.tail\n",
    "           self.tail.prev = self.head\n",
    "\n",
    "    def remove(self, node):\n",
    "         prev = node.prev \n",
    "         next = node.next\n",
    "         prev.next = next\n",
    "         next.prev = prev\n",
    "        \n",
    "    def add(self, node):\n",
    "        prev = self.tail.prev\n",
    "        prev.next = node\n",
    "        node.prev = prev\n",
    "        node.next = self.tail\n",
    "        self.tail.prev = node\n",
    "    \n",
    "    def get(self, key:int) -> int:\n",
    "         if key in self.cache:\n",
    "              node = self.cache[key]\n",
    "              self.remove(node)\n",
    "              self.add(node)\n",
    "              return node.value\n",
    "         return -1\n",
    "    \n",
    "    def put(self, key:int, value:int) -> None:\n",
    "         if key in self.cache:\n",
    "              node = self.cache[key]\n",
    "              self.remove(node)\n",
    "         node = Node(key, value)\n",
    "         self.add(node)\n",
    "         self.cache[key]= node\n",
    "         if len(self.cache)>self.capacity:\n",
    "              lru = self.head.next\n",
    "              self.remove(lru)\n",
    "              del self.cache[lru.key]"
   ]
  },
  {
   "cell_type": "code",
   "execution_count": 17,
   "metadata": {},
   "outputs": [
    {
     "name": "stdout",
     "output_type": "stream",
     "text": [
      "1\n",
      "-1\n",
      "3\n"
     ]
    }
   ],
   "source": [
    "# Example Usage:\n",
    "lru = LRUCache(2)\n",
    "lru.put(1, 1)\n",
    "lru.put(2, 2)\n",
    "print(lru.get(1))  # Returns 1\n",
    "lru.put(3, 3)  # Evicts key 2\n",
    "print(lru.get(2))  # Returns -1 (not found)\n",
    "print(lru.get(3))  # Returns 3"
   ]
  },
  {
   "cell_type": "code",
   "execution_count": null,
   "metadata": {},
   "outputs": [],
   "source": []
  }
 ],
 "metadata": {
  "kernelspec": {
   "display_name": "base",
   "language": "python",
   "name": "python3"
  },
  "language_info": {
   "codemirror_mode": {
    "name": "ipython",
    "version": 3
   },
   "file_extension": ".py",
   "mimetype": "text/x-python",
   "name": "python",
   "nbconvert_exporter": "python",
   "pygments_lexer": "ipython3",
   "version": "3.9.12"
  }
 },
 "nbformat": 4,
 "nbformat_minor": 2
}
